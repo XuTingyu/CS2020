{
  "nbformat": 4,
  "nbformat_minor": 0,
  "metadata": {
    "colab": {
      "name": "Python/5_函數.md",
      "provenance": [],
      "collapsed_sections": [],
      "authorship_tag": "ABX9TyNWO9V/mXyg2UfdkBrOIpFJ",
      "include_colab_link": true
    },
    "kernelspec": {
      "name": "python3",
      "display_name": "Python 3"
    }
  },
  "cells": [
    {
      "cell_type": "markdown",
      "metadata": {
        "id": "view-in-github",
        "colab_type": "text"
      },
      "source": [
        "<a href=\"https://colab.research.google.com/github/XuTingyu/CS2020/blob/master/Python_5_%E5%87%BD%E6%95%B8_md.ipynb\" target=\"_parent\"><img src=\"https://colab.research.google.com/assets/colab-badge.svg\" alt=\"Open In Colab\"/></a>"
      ]
    },
    {
      "cell_type": "markdown",
      "metadata": {
        "id": "h4QxbIYh3EAD"
      },
      "source": [
        "**[1]函數**\n",
        "\n",
        "**[2]函式參數與回傳**\n",
        "\n",
        "**[3]變數的有效範圍(Scope)**\n",
        "\n",
        "**[4]各種函數技術**\n",
        "\n",
        "   **匿名函數**\n",
        "\n",
        "   **遞迴函數**\n",
        "\n",
        "**[5]Python內建函數==>Built-in Functions**\n"
      ]
    },
    {
      "cell_type": "markdown",
      "metadata": {
        "id": "niQV3HLD3I4n"
      },
      "source": [
        "# 函數開發初體驗"
      ]
    },
    {
      "cell_type": "code",
      "metadata": {
        "id": "L9fz5arN3K1-"
      },
      "source": [
        "def sum(i1, i2):\n",
        "    result = 0\n",
        "    for i in range(i1, i2):\n",
        "        result += i\n",
        "    return result\n",
        "\n",
        "def main():\n",
        "    print(\"Sum from 1 to 10 is\", sum(1, 11)) \n",
        "    print(\"Sum from 20 to 37 is\", sum(20, 38))\n",
        "    print(\"Sum from 35 to 49 is\", sum(35, 50))\n",
        "\n",
        "main() # Call the main function"
      ],
      "execution_count": null,
      "outputs": []
    },
    {
      "cell_type": "markdown",
      "metadata": {
        "id": "Q1ayeDse3LVG"
      },
      "source": [
        "# 函式的定義:\n",
        "\n",
        "```\n",
        "# 函數代碼塊以 def 關鍵字開頭，後接函數識別字名稱和圓括號()。\n",
        "任何傳入參數和引數必須放在圓括號中間。圓括號之間可以用於定義參數。\n",
        "函數的第一行語句可以選擇性地使用文檔字串—用於存放函數說明。\n",
        "函數內容以冒號起始，並且縮排。\n",
        "return [運算式] 結束函數，選擇性地返回一個值給調用方。不帶運算式的return相當於返回 None。\n",
        "函式包含標頭和主體。\n",
        "標頭(header)起源於def關鍵字，後接函式名稱和參數，最後以冒號結尾。\n",
        "\n",
        "【Python 練習實例47】練習撰寫swap(a,b)函式\n",
        "                    寫一個函式將輸入的兩個變數值互換\n",
        "```\n",
        "\n"
      ]
    },
    {
      "cell_type": "code",
      "metadata": {
        "id": "otpFwJfR3Sbu"
      },
      "source": [
        "#!/usr/bin/python\n",
        "# -*- coding: UTF-8 -*-\n",
        " \n",
        "def swap(a,b):\n",
        "    a,b = b,a\n",
        "    return (a,b)\n",
        " \n",
        "if __name__ == '__main__':\n",
        "    x = 10\n",
        "    y = 20\n",
        "    print('x = %d,y = %d' % (x,y))\n",
        "    x,y = swap(x,y)\n",
        "    print('x = %d,y = %d' % (x,y))"
      ],
      "execution_count": null,
      "outputs": []
    },
    {
      "cell_type": "code",
      "metadata": {
        "id": "ds5LLHu83U_h"
      },
      "source": [
        "\"\"\"## Python Docstring\n",
        "\n",
        "\n",
        "https://stackoverflow.com/questions/3898572/what-is-the-standard-python-docstring-format\n",
        "\n",
        "\n",
        "Google Style Python Docstrings\n",
        "\n",
        "https://www.sphinx-doc.org/en/master/usage/extensions/example_google.html#example-google\n",
        "\n",
        "\n",
        "'''\n",
        "This is an example of Google style.\n",
        "\n",
        "Args:\n",
        "    param1: This is the first param.\n",
        "    param2: This is a second param.\n",
        "\n",
        "Returns:\n",
        "    This is a description of what is returned.\n",
        "\n",
        "Raises:\n",
        "    KeyError: Raises an exception.\n",
        "'''\n",
        "\"\"\"\n",
        "\n",
        "def demo():\n",
        "    \"\"\"函數的文件字串\"\"\"\n",
        "    pass\n",
        "    \n",
        "print(demo.__doc__)\n",
        "\n",
        "def swap(a,b):\n",
        "    \"\"\"\n",
        "    swap(a,b)功能是.................\n",
        "    \"\"\" \n",
        "    a,b = b,a\n",
        "    return (a,b)\n",
        "\n",
        "print(swap(3,5))\n",
        "print(swap.__doc__)"
      ],
      "execution_count": null,
      "outputs": []
    },
    {
      "cell_type": "markdown",
      "metadata": {
        "id": "QnNmMjNr3a_J"
      },
      "source": [
        "# 函式與回傳值\n",
        "\n",
        "```\n",
        "# Python的函式是否有無回傳值，端視函式是否有無return敘述。\n",
        "```\n",
        "\n"
      ]
    },
    {
      "cell_type": "markdown",
      "metadata": {
        "id": "3u5g9CiI3hH0"
      },
      "source": [
        "**若函式沒有回傳值，預設是回傳一None特殊值。 因此，沒有回傳值的函式也稱為None函式。 None值可以指定給一變數，表示此變數沒有參考到任何的物件**"
      ]
    },
    {
      "cell_type": "code",
      "metadata": {
        "id": "wrtXja3F3cFA"
      },
      "source": [
        "## Python的函數可以回傳多個值(超棒der)\n",
        "\"\"\"\n",
        "\n",
        "#!/usr/bin/python \n",
        "# -*- coding: UTF-8 -*- \n",
        "\n",
        "def sort(number1, number2):\n",
        "    if number1 < number2:\n",
        "        return number1, number2\n",
        "    else:\n",
        "        return number2, number1\n",
        "\n",
        "num1, num2 = sort(31, 25)\n",
        "\n",
        "print(\"num1 is\", num1)\n",
        "print(\"num2 is\", num2)\n",
        "\n",
        "\"\"\"### [作業]:def sort(number1, number2, number3):"
      ],
      "execution_count": null,
      "outputs": []
    },
    {
      "cell_type": "markdown",
      "metadata": {
        "id": "sGRALuqL3yTp"
      },
      "source": [
        "# 函式與參數\n",
        "\n",
        "```\n",
        "# Default arguments預設參數\n",
        "Positional arguments位置參數\n",
        "Keyword arguments關鍵字參數\n",
        "```\n",
        "\n"
      ]
    },
    {
      "cell_type": "markdown",
      "metadata": {
        "id": "ix2wvqjm32rg"
      },
      "source": [
        "**arguments參數的使用技巧**"
      ]
    },
    {
      "cell_type": "code",
      "metadata": {
        "id": "ZN9asEIc34jl"
      },
      "source": [
        "#!/usr/bin/python \n",
        "# -*- coding: UTF-8 -*- \n",
        "\n",
        "def printArea(width = 11, height = 12):\n",
        "    area = width * height\n",
        "    print(\"width:\", width, \"\\theight:\", height, \"\\tarea:\", area)\n",
        "\n",
        "printArea() \n",
        "printArea(4, 2.5) # Positional arguments width = 4 and height = 2.5\n",
        "printArea(height = 5, width = 3) # Keyword arguments width \n",
        "printArea(width = 1.2) # Default height = 2\n",
        "printArea(height = 6.2) # Default widht = 1"
      ],
      "execution_count": null,
      "outputs": []
    },
    {
      "cell_type": "markdown",
      "metadata": {
        "id": "fbR0JqxA36zh"
      },
      "source": [
        "**[小小測驗:執行下列程式並說明其結果**"
      ]
    },
    {
      "cell_type": "code",
      "metadata": {
        "id": "AQnxlutD39ku"
      },
      "source": [
        "#!/usr/bin/python \n",
        "# -*- coding: UTF-8 -*- \n",
        "\n",
        "def hello_3(greeting='Hello', name='world'): \n",
        "    print('{}, {}!'.format(greeting, name)) \n",
        "\n",
        "    \n",
        "hello_3() \n",
        "hello_3('Greetings') \n",
        "hello_3('Greetings', 'universe')\n",
        "hello_3(name='GGGGGGoood')"
      ],
      "execution_count": null,
      "outputs": []
    },
    {
      "cell_type": "markdown",
      "metadata": {
        "id": "Rq6ATALG4Lq5"
      },
      "source": [
        "**[特別注意]要將字典dict型的資料傳給函數時,記得要使用**"
      ]
    },
    {
      "cell_type": "code",
      "metadata": {
        "id": "kKzp5FVq4YUQ"
      },
      "source": [
        "#!/usr/bin/python \n",
        "# -*- coding: UTF-8 -*- \n",
        "\n",
        "def hello_3(greeting='Hello', name='world'): \n",
        "    print('{}, {}!'.format(greeting, name)) \n",
        "\n",
        "    \n",
        "hello_3() \n",
        "hello_3('Greetings') \n",
        "hello_3('Greetings', 'universe')\n",
        "hello_3(name='GGGGGGoood')"
      ],
      "execution_count": null,
      "outputs": []
    },
    {
      "cell_type": "markdown",
      "metadata": {
        "id": "3cWmHUyj4hVE"
      },
      "source": [
        "**[特別注意]要將字典dict型的資料傳給函數時,記得要使用**"
      ]
    },
    {
      "cell_type": "code",
      "metadata": {
        "id": "JcBsbW0r4iCw"
      },
      "source": [
        "params = {'name': 'Sir Simon Rattle', 'greeting': 'To my Great Conductor'}\n",
        "hello_3(**params)"
      ],
      "execution_count": null,
      "outputs": []
    },
    {
      "cell_type": "markdown",
      "metadata": {
        "id": "-LlpPHeu4kk4"
      },
      "source": [
        "**collectiong parameters(任意數量的參數):* 與 ****\n",
        "\n",
        "```\n",
        "# 如何撰寫擁有任意數量參數的函式:\n",
        "```\n",
        "\n"
      ]
    },
    {
      "cell_type": "code",
      "metadata": {
        "id": "nMg6dKbV4qDF"
      },
      "source": [
        "def print_params(*params): \n",
        "    print(params) \n",
        "\n",
        "print_params('Testing') \n",
        "\n",
        "print_params(1, 2, 3) \n",
        "\n",
        "# return的是tuple資料型態\n",
        "\n",
        "#可和一般參數齊用\n",
        "\n",
        "def print_params_2(title, *params): \n",
        "    print(title) \n",
        "    print(params)\n",
        "\n",
        "print_params_2('Params:', 1, 2, 3)\n",
        "print_params_2('Nothing:')"
      ],
      "execution_count": null,
      "outputs": []
    },
    {
      "cell_type": "markdown",
      "metadata": {
        "id": "cGln70u94sLe"
      },
      "source": [
        "# 撰寫擁有任意數量參數的函式且要支援關鍵字參數==>使用**"
      ]
    },
    {
      "cell_type": "code",
      "metadata": {
        "id": "r46jEWvY4zoK"
      },
      "source": [
        "def print_params_3(**params): \n",
        "    print(params) \n",
        "\n",
        "print_params_3(x=1, y=2, z=3) \n",
        "\n",
        "# return的是dict(字典資料型態)\n",
        "\n",
        "def print_params_4(x, y, z=3, *pospar, **keypar): \n",
        "    print(x, y, z) \n",
        "    print(pospar) \n",
        "    print(keypar) \n",
        "\n",
        "print_params_4(1, 2, 4, 5, 6, 7, foo=1, bar=2)\n",
        "\n",
        "print_params_4(1, 2)"
      ],
      "execution_count": null,
      "outputs": []
    },
    {
      "cell_type": "markdown",
      "metadata": {
        "id": "m64pce9I413x"
      },
      "source": [
        "# 變數的有效範圍"
      ]
    },
    {
      "cell_type": "code",
      "metadata": {
        "id": "EFnCeTTA42p7"
      },
      "source": [
        "變數的有效範圍(Scope)：變數在程式可參考的範圍。\n",
        "\n",
        "區域變數(local variable):宣告在函式內部的變數\n",
        "\n",
        "全域變數(global variables):宣告在所有函式外部的變數\n",
        "\"\"\"\n",
        "\n",
        "x = 111\n",
        "\n",
        "def f1():\n",
        "    x = 222\n",
        "    print(x) \n",
        "\n",
        "f1()\n",
        "print(x)\n",
        "\n",
        "x = 1\n",
        "\n",
        "def increase():\n",
        "    global x\n",
        "    x =  x + 1\n",
        "    print(x) \n",
        "\n",
        "increase()\n",
        "print(x)\n",
        "increase()\n",
        "increase()\n",
        "print(x)"
      ],
      "execution_count": null,
      "outputs": []
    },
    {
      "cell_type": "markdown",
      "metadata": {
        "id": "j9MInNn-44tb"
      },
      "source": [
        "# [4]"
      ]
    },
    {
      "cell_type": "markdown",
      "metadata": {
        "id": "mWLt4ohb46xw"
      },
      "source": [
        "**匿名函數==>lambda 運算式**\n",
        "```\n",
        "# 匿名函數==沒有函數名稱、臨時使用的小函數\n",
        "使用lambda 運算式來宣告匿名函數\n",
        "lambda 運算式只能包含一個運算式， 不允許複雜的語句，但運算式中可呼叫其他函數\n"
      ]
    },
    {
      "cell_type": "markdown",
      "metadata": {
        "id": "m5iZieG25A4k"
      },
      "source": [
        "**把lambda運算式當做函數**"
      ]
    },
    {
      "cell_type": "code",
      "metadata": {
        "id": "hoEsSkJa5Il7"
      },
      "source": [
        "f1 = lambda x, y, z: x+2*y+3*z\n",
        "print(f1(2,3,1))"
      ],
      "execution_count": null,
      "outputs": []
    },
    {
      "cell_type": "markdown",
      "metadata": {
        "id": "aBoMfvoB6DEo"
      },
      "source": [
        "**###在lambda 運算式中呼叫其他函式(重要技術)**"
      ]
    },
    {
      "cell_type": "code",
      "metadata": {
        "id": "1db69dn_6IoQ"
      },
      "source": [
        "def myfunc(m):\n",
        "    return m*m\n",
        "\n",
        "my_list = [1, 3, 5, 7, 9]"
      ],
      "execution_count": null,
      "outputs": []
    },
    {
      "cell_type": "markdown",
      "metadata": {
        "id": "xRMl_lVa6LVV"
      },
      "source": [
        "**使用python的map()**"
      ]
    },
    {
      "cell_type": "code",
      "metadata": {
        "id": "aayexYkt6SVr"
      },
      "source": [
        "map(lambda x:myfunc(x), my_list)"
      ],
      "execution_count": null,
      "outputs": []
    },
    {
      "cell_type": "markdown",
      "metadata": {
        "id": "os0W8QC56TO7"
      },
      "source": [
        "**遞迴函式 ==> recursive vs iterative(loop)**\n",
        "\n",
        "```\n",
        "# [程式開發作業]費氏數列\n",
        "[程式開發作業]1+2+3+....+n\n",
        "[程式開發作業]n!\n",
        "[程式開發作業]x的n次方\n",
        "[程式開發作業]二項係數\n",
        "[程式開發作業][Ackermann函式](https://en.wikipedia.org/wiki/Ackermann_function)\n",
        "[程式開發作業]河內塔\n",
        "[程式開發作業]八皇后問題\n",
        "[程式開發作業]binary search二元搜尋法\n",
        "```\n",
        "\n"
      ]
    },
    {
      "cell_type": "markdown",
      "metadata": {
        "id": "sw3pMNxN6dnt"
      },
      "source": [
        "**費氏數列**\n",
        "\n",
        "```\n",
        "# 費氏數列Fibonacci sequence又稱黃金分割數列\n",
        "0、1、1、2、3、5、8、13、21、34、……。\n",
        "\n",
        "在數學上，費波那契數列是以遞迴的方法來定義：\n",
        "F(0) = 0    (n=0)\n",
        "F(1) = 1    (n=1)\n",
        "F(n) = F(n-1)+ F(n-2)(n=>2)\n",
        "```\n",
        "\n"
      ]
    },
    {
      "cell_type": "markdown",
      "metadata": {
        "id": "K4eu1_XQ6lJF"
      },
      "source": [
        "方法一:使用 recursive"
      ]
    },
    {
      "cell_type": "code",
      "metadata": {
        "id": "AFxiKAp96oPH"
      },
      "source": [
        "#!/usr/bin/python\n",
        "# -*- coding: UTF-8 -*-\n",
        "\n",
        "def fib(n):\n",
        "    if n==1 or n==2:\n",
        "        return 1\n",
        "    return fib(n-1)+fib(n-2)\n",
        "\n",
        "print(fib(10))"
      ],
      "execution_count": null,
      "outputs": []
    },
    {
      "cell_type": "markdown",
      "metadata": {
        "id": "lWun1DOx6r7d"
      },
      "source": [
        "**方法二:使用 iterative\"\"\"**"
      ]
    },
    {
      "cell_type": "code",
      "metadata": {
        "id": "6t7gB58Y6sjX"
      },
      "source": [
        "#!/usr/bin/python\n",
        "# -*- coding: UTF-8 -*-\n",
        " \n",
        "def fib(n):\n",
        "    a,b = 1,1\n",
        "    for i in range(n-1):\n",
        "        a,b = b,a+b\n",
        "    return a\n",
        " \n",
        "\n",
        "print(fib(10))"
      ],
      "execution_count": null,
      "outputs": []
    },
    {
      "cell_type": "markdown",
      "metadata": {
        "id": "kjoHHKth615q"
      },
      "source": [
        "**###【Python 練習實例28】**\n",
        "\n",
        "```\n",
        "# 有5個人坐在一起，\n",
        "問第五個人多少歲？他說比第4個人大2歲。\n",
        "問第4個人歲數，他說比第3個人大2歲。\n",
        "問第三個人，又說比第2人大兩歲。\n",
        "問第2個人，說比第一個人大兩歲。\n",
        "最後問第一個人，他說是10歲。\n",
        "請問第五個人多大？\n",
        "```\n",
        "\n"
      ]
    },
    {
      "cell_type": "markdown",
      "metadata": {
        "id": "CLVZS4ki7BME"
      },
      "source": [
        "**問題:要如何知道函數被呼叫的次數??**\n",
        "\n",
        "```\n",
        "# 遞迴函式的呼叫次數==>全域變數的應用\n",
        "```\n",
        "\n"
      ]
    },
    {
      "cell_type": "code",
      "metadata": {
        "id": "7Nz8YEsL7JNS"
      },
      "source": [
        "#!/usr/bin/python\n",
        "# -*- coding: UTF-8 -*-\n",
        "\n",
        "def fib(x):\t\n",
        "\tglobal numFibCalls\n",
        "\tnumFibCalls += 1\n",
        "\t\n",
        "\tif x == 0 or x == 1:\n",
        "           return 1\n",
        "\telse:\n",
        "          return fib(x-1) + fib(x-2)\n",
        "\n",
        "def testFib(n):\n",
        "\tfor i in range(n+1):\n",
        "          global numFibCalls\n",
        "          numFibCalls = 0\n",
        "          print('fib of', i, '=', fib(i))\n",
        "          print('fib called', numFibCalls, 'times.')\n",
        "\n",
        "testFib(4)"
      ],
      "execution_count": null,
      "outputs": []
    },
    {
      "cell_type": "markdown",
      "metadata": {
        "id": "qBiFp6BL7Ls-"
      },
      "source": [
        "# [5]Python內建函數==>Built-in Functions:\n",
        "\n",
        "```\n",
        "# https://docs.python.org/2/library/functions.html\n",
        "https://www.programiz.com/python-programming/methods/built-in\n",
        "```\n",
        "\n"
      ]
    },
    {
      "cell_type": "markdown",
      "metadata": {
        "id": "1U0JRvPA7Scn"
      },
      "source": [
        "hex(x):Convert an integer number to a lowercase hexadecimal string prefixed with “0x”"
      ]
    },
    {
      "cell_type": "code",
      "metadata": {
        "id": "gIZsu0U57THo",
        "outputId": "63c720b1-61fa-4879-81d4-7bdce9a9e7eb",
        "colab": {
          "base_uri": "https://localhost:8080/",
          "height": 35
        }
      },
      "source": [
        "hex(255)\n",
        "\n",
        "hex(-42)\n",
        "\n",
        "\"\"\"### oct(x):Convert an integer number to an octal string prefixed with “0o”\"\"\"\n",
        "\n",
        "oct(8)\n",
        "\n",
        "oct(-56)\n",
        "\n",
        "\"\"\"### bin(x):Convert an integer number to a binary string prefixed with “0b”\"\"\"\n",
        "\n",
        "bin(3)\n",
        "\n",
        "bin(-10)"
      ],
      "execution_count": 2,
      "outputs": [
        {
          "output_type": "execute_result",
          "data": {
            "application/vnd.google.colaboratory.intrinsic+json": {
              "type": "string"
            },
            "text/plain": [
              "'-0b1010'"
            ]
          },
          "metadata": {
            "tags": []
          },
          "execution_count": 2
        }
      ]
    }
  ]
}