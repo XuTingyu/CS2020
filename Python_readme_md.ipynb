{
  "nbformat": 4,
  "nbformat_minor": 0,
  "metadata": {
    "colab": {
      "name": "Python/readme.md",
      "provenance": [],
      "collapsed_sections": []
    },
    "kernelspec": {
      "name": "python3",
      "display_name": "Python 3"
    }
  },
  "cells": [
    {
      "cell_type": "markdown",
      "metadata": {
        "id": "swUMfit_FlRC"
      },
      "source": [
        "https://www.w3schools.com/python/\n",
        "\n",
        "https://www.w3schools.com/python/exercise.asp"
      ]
    }
  ]
}